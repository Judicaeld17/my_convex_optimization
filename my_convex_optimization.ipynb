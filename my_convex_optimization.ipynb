{
 "cells": [
  {
   "cell_type": "code",
   "execution_count": 1,
   "id": "8969fda2",
   "metadata": {},
   "outputs": [],
   "source": [
    "import numpy as np\n",
    "import matplotlib.pyplot as plt\n",
    "from scipy import optimize"
   ]
  },
  {
   "cell_type": "markdown",
   "id": "3b8213fd",
   "metadata": {},
   "source": [
    "# #Reviewer: The code works well localy "
   ]
  },
  {
   "cell_type": "code",
   "execution_count": 2,
   "id": "27bf60d2",
   "metadata": {},
   "outputs": [],
   "source": [
    "f = lambda x : (x-1)**4+x**2\n",
    "f_deriv=lambda x: 4*(x-1)**3+2*x\n",
    "g=lambda x: x+3"
   ]
  },
  {
   "cell_type": "code",
   "execution_count": 3,
   "id": "1b64fd01",
   "metadata": {},
   "outputs": [],
   "source": [
    "#Will plot the function with the values received as parameters\n",
    "def print_a_function(f,values):\n",
    "    plt.plot(values,f(values))"
   ]
  },
  {
   "cell_type": "code",
   "execution_count": 4,
   "id": "d3fcef9c",
   "metadata": {},
   "outputs": [
    {
     "data": {
      "image/png": "[encoded data removed]",
      "text/plain": [
       "<Figure size 432x288 with 1 Axes>"
      ]
     },
     "metadata": {
      "needs_background": "light"
     },
     "output_type": "display_data"
    }
   ],
   "source": [
    "val=np.linspace(-5,5,10)\n",
    "print_a_function(f,val)"
   ]
  },
  {
   "cell_type": "code",
   "execution_count": 7,
   "id": "2e2e959f",
   "metadata": {},
   "outputs": [],
   "source": [
    "def find_root_bisection(f,minVal,maxVal):\n",
    "    if minVal >= maxVal:\n",
    "        print(\" max must be greater than min\")\n",
    "    precision=0.001\n",
    "    fmin=f(minVal)\n",
    "    fmax=f(maxVal)\n",
    "           \n",
    "    while abs(maxVal-minVal)>0.001:\n",
    "        midVal=(minVal+maxVal)/2\n",
    "        fmid=f(midVal)\n",
    "        if abs(fmid)<precision:\n",
    "            return midVal\n",
    "        if fmin*fmid <0:\n",
    "            maxVal=midVal\n",
    "        else: \n",
    "            minVal=midVal\n",
    "    print(\" The function doesn't have a zero on the selected range\")"
   ]
  },
  {
   "cell_type": "code",
   "execution_count": 8,
   "id": "7cb66c67",
   "metadata": {},
   "outputs": [
    {
     "data": {
      "text/plain": [
       "-3.00048828125"
      ]
     },
     "execution_count": 8,
     "metadata": {},
     "output_type": "execute_result"
    }
   ],
   "source": [
    "find_root_bisection(g,-5,4)"
   ]
  },
  {
   "cell_type": "markdown",
   "id": "cd2953fa",
   "metadata": {},
   "source": [
    "# Newton-raphson methode"
   ]
  },
  {
   "cell_type": "code",
   "execution_count": 9,
   "id": "a341f6dc",
   "metadata": {},
   "outputs": [],
   "source": [
    "def find_root_newton_raphson(f,f_deriv,currentGuess,maxIter=5000):\n",
    "    newGuess=currentGuess - f(currentGuess)/f_deriv(currentGuess)\n",
    "    for i in range(maxIter): \n",
    "#         print(abs(currentGuess-newGuess),f(currentGuess))\n",
    "        #Check for convergence\n",
    "        if abs(f(currentGuess))<0.001:\n",
    "            return currentGuess\n",
    "        \n",
    "        #Check for division by zero (or near-zero)\n",
    "        if abs(f_deriv(currentGuess))<0.001:\n",
    "            print(\"Derivative is close to zero , Newton-Raphson may diverge\")\n",
    "            return None\n",
    "        #update guess using Newton_Raphson formula\n",
    "        currentGuess=newGuess\n",
    "        newGuess=currentGuess - f(currentGuess)/f_deriv(currentGuess)\n",
    "    #Handle non-convergence\n",
    "    print(\"Warning : newton-Raphson method did not converge with\",maxIter,\"iterations\")\n",
    "    return None"
   ]
  },
  {
   "cell_type": "code",
   "execution_count": 11,
   "id": "a6b8e77b",
   "metadata": {},
   "outputs": [
    {
     "name": "stdout",
     "output_type": "stream",
     "text": [
      "Derivative is close to zero , Newton-Raphson may diverge\n",
      "None\n"
     ]
    }
   ],
   "source": [
    "currentGuess=find_root_newton_raphson(f,f_deriv,1)\n",
    "print(currentGuess)"
   ]
  },
  {
   "cell_type": "markdown",
   "id": "6e128e13",
   "metadata": {},
   "source": [
    "# Gradient_descent"
   ]
  },
  {
   "cell_type": "code",
   "execution_count": 12,
   "id": "c9c8276f",
   "metadata": {},
   "outputs": [],
   "source": [
    "def gradient_descent(f,f_deriv,start,learning_rate=0.01,maxIter=1000):\n",
    "    for i in range(maxIter):\n",
    "        if abs(f_deriv(start))<0.001:\n",
    "            print(f_deriv(start))\n",
    "            return start\n",
    "        else:\n",
    "            start=start-learning_rate*f_deriv(start)\n",
    "    print(f\"Gardient descent doesn't converge within {maxIter},iterations \")"
   ]
  },
  {
   "cell_type": "code",
   "execution_count": 13,
   "id": "fbcf313a",
   "metadata": {},
   "outputs": [
    {
     "name": "stdout",
     "output_type": "stream",
     "text": [
      "0.0009428489611894575\n",
      "x_min: 0.4103982340750575, f(x_min): 0.2892734959503621\n"
     ]
    }
   ],
   "source": [
    "x_min=gradient_descent(f,f_deriv,5)\n",
    "f_min=f(x_min)\n",
    "print(f\"x_min: {x_min}, f(x_min): {f_min}\")"
   ]
  },
  {
   "cell_type": "code",
   "execution_count": 14,
   "id": "4befa70a",
   "metadata": {},
   "outputs": [
    {
     "name": "stdout",
     "output_type": "stream",
     "text": [
      "x_min: 0.41024548853416215, f(x_min): 0.2892734239377779\n"
     ]
    }
   ],
   "source": [
    "#checking if we get the coreect value using Brent's method\n",
    "ret_val=optimize.minimize_scalar(f,method='brent')\n",
    "print(f'x_min: {ret_val.x}, f(x_min): {ret_val.fun}')"
   ]
  },
  {
   "cell_type": "code",
   "execution_count": 20,
   "id": "18ae2263",
   "metadata": {},
   "outputs": [
    {
     "data": {
      "text/plain": [
       "<matplotlib.legend.Legend at 0x7f6110c44748>"
      ]
     },
     "execution_count": 20,
     "metadata": {},
     "output_type": "execute_result"
    },
    {
     "data": {
      "image/png": "[encoded data removed]",
      "text/plain": [
       "<Figure size 432x288 with 1 Axes>"
      ]
     },
     "metadata": {
      "needs_background": "light"
     },
     "output_type": "display_data"
    }
   ],
   "source": [
    "#plotting the f curve\n",
    "x=np.linspace(ret_val.x-3,ret_val.x+3,100)\n",
    "y=f(x)\n",
    "plt.plot(x,y,label='f curve')\n",
    "\n",
    "#Making the min in the curve\n",
    "plt.scatter(ret_val.x,ret_val.fun,color=\"red\",label='The minimun')\n",
    "\n",
    "plt.grid()\n",
    "plt.legend()"
   ]
  },
  {
   "cell_type": "markdown",
   "id": "4e4f61ed",
   "metadata": {},
   "source": [
    "# Solving Linear problem"
   ]
  },
  {
   "cell_type": "code",
   "execution_count": 21,
   "id": "a8d32d43",
   "metadata": {},
   "outputs": [],
   "source": [
    "#Function that Solve the linear problem using simplex method\n",
    "def solve_linear_problem(A,b,c):\n",
    "    optimizeResult=optimize.linprog(A_ub=A,b_ub=b,c=c,method='simplex')\n",
    "    optimal_val= -optimizeResult.fun\n",
    "    optimal_x =optimizeResult.x\n",
    "    return optimal_val,optimal_x"
   ]
  },
  {
   "cell_type": "code",
   "execution_count": 22,
   "id": "3b8ca590",
   "metadata": {},
   "outputs": [
    {
     "name": "stdout",
     "output_type": "stream",
     "text": [
      "The optimal value is:  11.0  and is reached for x =  [3. 4.]\n"
     ]
    }
   ],
   "source": [
    "#Checking the optimal value\n",
    "A = np.array([[2,1],[-4,5],[1,-2]])\n",
    "b = np.array([10,8,3])\n",
    "c = np.array([-1,-2])\n",
    "optimal_value, optimal_arg = solve_linear_problem(A, b, c)\n",
    "print(\"The optimal value is: \", optimal_value, \" and is reached for x = \", optimal_arg)\n"
   ]
  },
  {
   "cell_type": "code",
   "execution_count": null,
   "id": "2ee0715a",
   "metadata": {},
   "outputs": [],
   "source": []
  }
 ],
 "metadata": {
  "kernelspec": {
   "display_name": "Python 3",
   "language": "python",
   "name": "python3"
  },
  "language_info": {
   "codemirror_mode": {
    "name": "ipython",
    "version": 3
   },
   "file_extension": ".py",
   "mimetype": "text/x-python",
   "name": "python",
   "nbconvert_exporter": "python",
   "pygments_lexer": "ipython3",
   "version": "3.6.7"
  }
 },
 "nbformat": 4,
 "nbformat_minor": 5
}
